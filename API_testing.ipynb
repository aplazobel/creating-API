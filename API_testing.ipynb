{
 "cells": [
  {
   "cell_type": "code",
   "execution_count": 1,
   "metadata": {},
   "outputs": [],
   "source": [
    "import requests"
   ]
  },
  {
   "cell_type": "code",
   "execution_count": 93,
   "metadata": {},
   "outputs": [],
   "source": [
    "personajes = [\"Jon Snow\",\n",
    "              \"Sansa Stark\",\n",
    "              \"Arya Stark\",\n",
    "              \"Tyrion Lannister\",\n",
    "              \"Cersei Lannister\",\n",
    "              \"Jaime Lannister\",\n",
    "             ]"
   ]
  },
  {
   "cell_type": "markdown",
   "metadata": {},
   "source": [
    "## Creating a new User"
   ]
  },
  {
   "cell_type": "code",
   "execution_count": 94,
   "metadata": {},
   "outputs": [
    {
     "name": "stdout",
     "output_type": "stream",
     "text": [
      "<Response [200]>\n"
     ]
    }
   ],
   "source": [
    "for personaje in personajes:\n",
    "    addUser = requests.get(f\"http://localhost:3000/user/create/{personaje}\")\n",
    "print(addUser)"
   ]
  },
  {
   "cell_type": "markdown",
   "metadata": {},
   "source": [
    "## Assigning user to chat"
   ]
  },
  {
   "cell_type": "code",
   "execution_count": 95,
   "metadata": {},
   "outputs": [],
   "source": [
    "lannisters = [\"Tyrion Lannister\",\n",
    "              \"Cersei Lannister\",\n",
    "              \"Jaime Lannister\"]"
   ]
  },
  {
   "cell_type": "code",
   "execution_count": 96,
   "metadata": {},
   "outputs": [
    {
     "name": "stdout",
     "output_type": "stream",
     "text": [
      "<Response [200]>\n"
     ]
    }
   ],
   "source": [
    "for lannister in lannisters:\n",
    "    addToChat = requests.get(f\"http://localhost:3000/chat/LannisterChat/user/{lannister}\")\n",
    "print(addToChat)"
   ]
  },
  {
   "cell_type": "code",
   "execution_count": 97,
   "metadata": {},
   "outputs": [],
   "source": [
    "starks = [\"Jon Snow\",\"Sansa Stark\", \"Arya Stark\"]"
   ]
  },
  {
   "cell_type": "code",
   "execution_count": 98,
   "metadata": {},
   "outputs": [
    {
     "name": "stdout",
     "output_type": "stream",
     "text": [
      "<Response [200]>\n"
     ]
    }
   ],
   "source": [
    "for stark in starks:\n",
    "    addToChat = requests.get(f\"http://localhost:3000/chat/StarkChat/user/{stark}\")\n",
    "print(addToChat)"
   ]
  },
  {
   "cell_type": "markdown",
   "metadata": {},
   "source": [
    "## Adding messages into a chat"
   ]
  },
  {
   "cell_type": "code",
   "execution_count": 99,
   "metadata": {},
   "outputs": [],
   "source": [
    "starkPhrases = [\"Leave one wolf alive and the sheep are never safe.\",\n",
    "\"You're going to die tomorrow, Lord Bolton\",\n",
    "\"I am a wolf and will not be afraid.\"\n",
    "               ]"
   ]
  },
  {
   "cell_type": "code",
   "execution_count": 100,
   "metadata": {},
   "outputs": [
    {
     "name": "stdout",
     "output_type": "stream",
     "text": [
      "<Response [200]>\n"
     ]
    }
   ],
   "source": [
    "for i in range(len(starkPhrases)):\n",
    "    addMessage = requests.get(f'http://localhost:3000/chat/StarkChat/user/{starks[i]}/message/{starkPhrases[i]}')\n",
    "    \n",
    "print(addMessage)"
   ]
  },
  {
   "cell_type": "markdown",
   "metadata": {},
   "source": [
    "## Getting the messages from the chat in the form of a list"
   ]
  },
  {
   "cell_type": "code",
   "execution_count": 101,
   "metadata": {},
   "outputs": [
    {
     "data": {
      "text/plain": [
       "['Messages',\n",
       " ['Leave one wolf alive and the sheep are never safe.'],\n",
       " 'Messages',\n",
       " [\"You're going to die tomorrow, Lord Bolton\"],\n",
       " 'Messages',\n",
       " ['I am a wolf and will not be afraid.']]"
      ]
     },
     "execution_count": 101,
     "metadata": {},
     "output_type": "execute_result"
    }
   ],
   "source": [
    "requests.get('http://localhost:3000/chat/StarkChat/list').json()"
   ]
  },
  {
   "cell_type": "markdown",
   "metadata": {},
   "source": [
    "## Analysing Sentiment in a group Chat"
   ]
  },
  {
   "cell_type": "code",
   "execution_count": 102,
   "metadata": {},
   "outputs": [
    {
     "data": {
      "text/plain": [
       "{'compound': -0.0015, 'neg': 0.273, 'neu': 0.53, 'pos': 0.197}"
      ]
     },
     "execution_count": 102,
     "metadata": {},
     "output_type": "execute_result"
    }
   ],
   "source": [
    "requests.get('http://localhost:3000/chat/StarkChat/sentiment').json()"
   ]
  }
 ],
 "metadata": {
  "kernelspec": {
   "display_name": "Python 3",
   "language": "python",
   "name": "python3"
  },
  "language_info": {
   "codemirror_mode": {
    "name": "ipython",
    "version": 3
   },
   "file_extension": ".py",
   "mimetype": "text/x-python",
   "name": "python",
   "nbconvert_exporter": "python",
   "pygments_lexer": "ipython3",
   "version": "3.7.7"
  }
 },
 "nbformat": 4,
 "nbformat_minor": 4
}
